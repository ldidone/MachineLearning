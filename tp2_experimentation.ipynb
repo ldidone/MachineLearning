{
 "cells": [
  {
   "cell_type": "markdown",
   "metadata": {},
   "source": [
    "# Trabajo Práctico 2: Entrenamiento y evaluación de modelos"
   ]
  },
  {
   "cell_type": "markdown",
   "metadata": {},
   "source": [
    "## Métrica de performance:"
   ]
  },
  {
   "cell_type": "markdown",
   "metadata": {},
   "source": [
    "-  Decidimos utilizar la métrica **F1-Score** debido a que permite establecer una relación entre lás métricas *Precission* y *Recall*. Precission es útil en los casos en los que queremos estar seguros de hacer una predicción correcta. Recall es útil si queremos asegurararnos de que la prediccion sea correcta en la mayoria de los casos. Además cabe aclarar que estas dos métricas funcionan bien cuando hay menor cantidad de casos positivos en la variable target (como sucede en nuestro dataset con la cantidad de medallistas).  \n",
    "    La relación que establece F1-Score con respecto a las métricas mencionadas es una especie de promedio ponderado en donde si alguna de las dos arroja un valor bajo, F1-Score caerá. Debido a ésto, consideramos que tenemos una visión más amplia que si utilizaríamos una sola de las métricas anteriormente mencionada. \n",
    "\n",
    "    Además, no podemos confiar plenamente en la métrica Accuracy debido al desbalance que presenta nuestro dataset, por ello decidimos no utilizarla."
   ]
  },
  {
   "cell_type": "markdown",
   "metadata": {},
   "source": [
    "## Feature engineering"
   ]
  },
  {
   "cell_type": "markdown",
   "metadata": {},
   "source": [
    "- Previo a implementar las técnicas de Feature Engineering, procedemos a realizar la limpieza y pre-procesado (explicado en el Trabajo Práctico N° 1, con la diferencia de que no eliminamos la variable id, ya que nos servirá para aplicar una técnica de feature engeneering)"
   ]
  },
  {
   "cell_type": "code",
   "execution_count": 1,
   "metadata": {},
   "outputs": [
    {
     "name": "stderr",
     "output_type": "stream",
     "text": [
      "Using TensorFlow backend.\n"
     ]
    }
   ],
   "source": [
    "# Importamos las librerías necesarias \n",
    "\n",
    "import numpy as np\n",
    "import pandas as pd\n",
    "#import keras \n",
    "from keras import backend as K\n",
    "import keras_metrics\n",
    "from matplotlib import pyplot as plt\n",
    "\n",
    "from keras.models import Sequential\n",
    "from keras.layers import Dense, Activation, Input, Dropout\n",
    "\n",
    "from sklearn.metrics import accuracy_score, precision_score, recall_score, f1_score, confusion_matrix\n",
    "from sklearn.model_selection import train_test_split\n",
    "from sklearn.neighbors import KNeighborsClassifier\n",
    "from sklearn.linear_model import LogisticRegression\n",
    "from sklearn.preprocessing import StandardScaler\n",
    "from sklearn.pipeline import Pipeline\n",
    "from sklearn.ensemble import RandomForestClassifier\n",
    "\n",
    "from sklearn.preprocessing import minmax_scale\n",
    "\n",
    "%matplotlib inline"
   ]
  },
  {
   "cell_type": "code",
   "execution_count": 2,
   "metadata": {},
   "outputs": [],
   "source": [
    "data = pd.read_csv(\"data/athlete_events.csv\")"
   ]
  },
  {
   "cell_type": "code",
   "execution_count": 3,
   "metadata": {},
   "outputs": [],
   "source": [
    "COLUMN_NAMES = {\n",
    "    'ID': 'id',\n",
    "    'Name': 'name',\n",
    "    'Sex': 'sex',\n",
    "    'Age': 'age',\n",
    "    'Height': 'height',\n",
    "    'Weight': 'weight',\n",
    "    'Team': 'team',\n",
    "    'NOC': 'noc',\n",
    "    'Games': 'games',\n",
    "    'Year': 'year',\n",
    "    'Season': 'season',\n",
    "    'City': 'city',\n",
    "    'Sport': 'sport',\n",
    "    'Event': 'event',\n",
    "    'Medal': 'medal_multiple',\n",
    "}\n",
    "data.rename(columns=COLUMN_NAMES, inplace=True)"
   ]
  },
  {
   "cell_type": "code",
   "execution_count": 4,
   "metadata": {},
   "outputs": [],
   "source": [
    "data['medal'] = data.medal_multiple.notnull()\n",
    "data.drop(\"medal_multiple\",axis = 1,inplace = True)"
   ]
  },
  {
   "cell_type": "code",
   "execution_count": 5,
   "metadata": {},
   "outputs": [],
   "source": [
    "data = data.drop(data[data.age.isnull()].index)\n",
    "data = data.drop(data[data.height.isnull()].index)\n",
    "data = data.drop(data[data.weight.isnull()].index)"
   ]
  },
  {
   "cell_type": "code",
   "execution_count": 6,
   "metadata": {},
   "outputs": [],
   "source": [
    "#Pre-procesado escalar\n",
    "data.age = data.age.astype(float)\n",
    "data.height = data.height.astype(float)\n",
    "data.weight = data.weight.astype(float)\n",
    "data.year = data.year.astype(float)\n",
    "\n",
    "from sklearn.preprocessing import minmax_scale\n",
    "\n",
    "data[['age','height', 'weight', 'year']] = minmax_scale(data[['age','height', 'weight', 'year']])"
   ]
  },
  {
   "cell_type": "code",
   "execution_count": 7,
   "metadata": {},
   "outputs": [],
   "source": [
    "#data.drop(\"id\",axis = 1,inplace = True)\n",
    "data.drop(\"name\",axis = 1,inplace = True)\n",
    "data.drop(\"team\",axis = 1,inplace = True)\n",
    "data.drop(\"games\",axis = 1,inplace = True)"
   ]
  },
  {
   "cell_type": "code",
   "execution_count": 8,
   "metadata": {},
   "outputs": [],
   "source": [
    "data_tree = data.copy()"
   ]
  },
  {
   "cell_type": "code",
   "execution_count": 9,
   "metadata": {},
   "outputs": [],
   "source": [
    "data['sex_m'] = data.sex == 'M'\n",
    "data['sex_f'] = data.sex == 'F'\n",
    "data.drop(\"sex\",axis = 1,inplace = True)"
   ]
  },
  {
   "cell_type": "code",
   "execution_count": 10,
   "metadata": {},
   "outputs": [],
   "source": [
    "data['season_summer'] = data.season == 'Summer'\n",
    "data['season_winter'] = data.season == 'Winter'\n",
    "data.drop(\"season\",axis = 1,inplace = True)"
   ]
  },
  {
   "cell_type": "code",
   "execution_count": 11,
   "metadata": {},
   "outputs": [],
   "source": [
    "# one-hot encoder para noc\n",
    "for noc in data.noc.unique():\n",
    "    data[noc.lower().replace(\" \", \"_\")] = data.noc == noc \n",
    "data.drop(\"noc\",axis = 1,inplace = True)\n",
    "\n",
    "# one-hot encoder para city\n",
    "for city in data.city.unique():\n",
    "    data[city.lower().replace(\" \", \"_\")] = data.city == city \n",
    "data.drop(\"city\",axis = 1,inplace = True)\n",
    "\n",
    "# one-hot encoder para sport\n",
    "for sport in data.sport.unique():\n",
    "    data[sport.lower().replace(\" \", \"_\")] = data.sport == sport \n",
    "data.drop(\"sport\",axis = 1,inplace = True)\n",
    "\n",
    "# one-hot encoder para event\n",
    "for event in data.event.unique():\n",
    "    data[event.lower().replace(\" \", \"_\")] = data.event == event \n",
    "data.drop(\"event\",axis = 1,inplace = True)"
   ]
  },
  {
   "cell_type": "markdown",
   "metadata": {},
   "source": [
    "### Binning"
   ]
  },
  {
   "cell_type": "markdown",
   "metadata": {},
   "source": [
    "#### Redondeamos las variable 'age', 'height', 'weight' y 'year' a 2 decimales:\n",
    "- Anteriormente estas variables llegaban a tener hasta 17 decimales, consideramos que ésto puede ser problemático para nuestros modelos, aumentando sus probabilidades de sobre-entrenamiento, es por ello que decidimos realizar ésta técnica"
   ]
  },
  {
   "cell_type": "code",
   "execution_count": 12,
   "metadata": {},
   "outputs": [],
   "source": [
    "data = data.round({\"age\":2, \"height\":2, \"weight\":2, \"year\":2})"
   ]
  },
  {
   "cell_type": "markdown",
   "metadata": {},
   "source": [
    "### Feature a partir de datos pasados:"
   ]
  },
  {
   "cell_type": "markdown",
   "metadata": {},
   "source": [
    "- Generamos una nueva columna que contiene la **cantidad de medallas** obtenidas por cada medallista dado hasta la fecha, a partir de contar la cantidad de veces que el atleta tiene un 'True' en el valor de la variable 'medal'."
   ]
  },
  {
   "cell_type": "code",
   "execution_count": 13,
   "metadata": {},
   "outputs": [],
   "source": [
    "for index, row in data.iterrows():\n",
    "    data.at[index, 'medal_at_moment'] = len(data[(data.medal == 1) & (data.year < row.year) & (data.id == row.id)])\n",
    "\n",
    "#Pre-procesado escalar\n",
    "data['medal_at_moment'] = minmax_scale(data['medal_at_moment'])\n",
    "\n",
    "#Eliminamos la columna ID\n",
    "data.drop(\"id\",axis = 1,inplace = True)"
   ]
  },
  {
   "cell_type": "markdown",
   "metadata": {},
   "source": [
    "## Entrenamiento de modelos:"
   ]
  },
  {
   "cell_type": "code",
   "execution_count": 14,
   "metadata": {},
   "outputs": [],
   "source": [
    "#Separamos el conjunto de datos en: train, test y validation\n",
    "train, not_train = train_test_split(data, test_size=0.4)\n",
    "validation, test = train_test_split(not_train, test_size=0.5)"
   ]
  },
  {
   "cell_type": "code",
   "execution_count": 15,
   "metadata": {},
   "outputs": [],
   "source": [
    "#Definimos las columas a utilizar en las predicciones (eliminamos la columna target)\n",
    "INPUTS_COLUMNS = data.columns.values\n",
    "indexMedal = np.where(INPUTS_COLUMNS == \"medal\")[0]\n",
    "INPUTS_COLUMNS = np.delete(INPUTS_COLUMNS,indexMedal[0])"
   ]
  },
  {
   "cell_type": "code",
   "execution_count": 16,
   "metadata": {},
   "outputs": [],
   "source": [
    "#Definimos la función a utilizar para evaluar los modelos\n",
    "def evaluate_model(model, extract_inputs_function, extract_outputs_function, tree ,include_validation=False, nn=False):\n",
    "    if tree:\n",
    "        sets = [('train', train_tree), ('test', test_tree), ('validation', validation_tree)] #Tree\n",
    "    else:\n",
    "        sets = [('train', train), ('test', test), ('validation', validation)] \n",
    "    if include_validation:\n",
    "        sets.append(('validation', validation))\n",
    "        \n",
    "    for set_name, set_data in sets:\n",
    "        inputs = extract_inputs_function(set_data)\n",
    "        outputs = extract_outputs_function(set_data)\n",
    "        predictions = model.predict(inputs)\n",
    "        if nn:\n",
    "            predictions = np.around(predictions)\n",
    "        \n",
    "        print(set_name, '#' * 80)\n",
    "        \n",
    "        # print metrics\n",
    "        \n",
    "        print('Precision:', precision_score(outputs, predictions))\n",
    "        print('Recall:', recall_score(outputs, predictions))\n",
    "        print('F1Score:', f1_score(outputs, predictions))\n",
    "        \n",
    "        print()\n",
    "        \n",
    "        # plot confussion matrix\n",
    "        \n",
    "        plt.figure(figsize=(3,4))\n",
    "        \n",
    "        plt.xticks([0, 1], ['no ganó', 'ganó'], rotation=45)\n",
    "        plt.yticks([0, 1], ['no ganó', 'ganó'])\n",
    "        plt.xlabel('Predicted class')\n",
    "        plt.ylabel('True class')\n",
    "\n",
    "        plt.title(set_name)\n",
    "\n",
    "        plt.imshow(\n",
    "            confusion_matrix(outputs, predictions), \n",
    "            cmap=plt.cm.Blues, \n",
    "            interpolation='nearest',\n",
    "        )\n",
    "\n",
    "        plt.show()"
   ]
  },
  {
   "cell_type": "markdown",
   "metadata": {},
   "source": [
    "### Modelo 1: Logistic Regression"
   ]
  },
  {
   "cell_type": "markdown",
   "metadata": {},
   "source": [
    "- Decidimos probar inicialmente con este modelo ya que es de los más simples y por ende, más fácil de explicar que el resto"
   ]
  },
  {
   "cell_type": "code",
   "execution_count": 17,
   "metadata": {},
   "outputs": [],
   "source": [
    "def lr_extract_inputs(data):\n",
    "    return data[INPUTS_COLUMNS].values.astype(np.float64)\n",
    "    ##return data[(list(data.columns.values))].values.astype(np.float64)\n",
    "\n",
    "def lr_extract_outputs(data):\n",
    "    return data.medal.values"
   ]
  },
  {
   "cell_type": "code",
   "execution_count": 18,
   "metadata": {},
   "outputs": [],
   "source": [
    "lr_model = Pipeline([\n",
    "    ('scaler', StandardScaler()),\n",
    "    ('classifier', LogisticRegression(random_state=30, solver='liblinear')),\n",
    "])"
   ]
  },
  {
   "cell_type": "code",
   "execution_count": 19,
   "metadata": {},
   "outputs": [
    {
     "data": {
      "text/plain": [
       "Pipeline(memory=None,\n",
       "     steps=[('scaler', StandardScaler(copy=True, with_mean=True, with_std=True)), ('classifier', LogisticRegression(C=1.0, class_weight=None, dual=False, fit_intercept=True,\n",
       "          intercept_scaling=1, max_iter=100, multi_class='warn',\n",
       "          n_jobs=None, penalty='l2', random_state=30, solver='liblinear',\n",
       "          tol=0.0001, verbose=0, warm_start=False))])"
      ]
     },
     "execution_count": 19,
     "metadata": {},
     "output_type": "execute_result"
    }
   ],
   "source": [
    "lr_model.fit(\n",
    "    lr_extract_inputs(train),\n",
    "    lr_extract_outputs(train),\n",
    ")"
   ]
  },
  {
   "cell_type": "code",
   "execution_count": 20,
   "metadata": {},
   "outputs": [
    {
     "name": "stdout",
     "output_type": "stream",
     "text": [
      "train ################################################################################\n",
      "Precision: 0.6407484407484407\n",
      "Recall: 0.16952695269526952\n",
      "F1Score: 0.2681165724227925\n",
      "\n"
     ]
    },
    {
     "data": {
      "image/png": "[encoded data removed]",
      "text/plain": [
       "<Figure size 216x288 with 1 Axes>"
      ]
     },
     "metadata": {
      "needs_background": "light"
     },
     "output_type": "display_data"
    },
    {
     "name": "stdout",
     "output_type": "stream",
     "text": [
      "test ################################################################################\n",
      "Precision: 0.6518833535844472\n",
      "Recall: 0.17782565462379848\n",
      "F1Score: 0.2794270833333333\n",
      "\n"
     ]
    },
    {
     "data": {
      "image/png": "[encoded data removed]",
      "text/plain": [
       "<Figure size 216x288 with 1 Axes>"
      ]
     },
     "metadata": {
      "needs_background": "light"
     },
     "output_type": "display_data"
    },
    {
     "name": "stdout",
     "output_type": "stream",
     "text": [
      "validation ################################################################################\n",
      "Precision: 0.6267823930564166\n",
      "Recall: 0.16943187531422826\n",
      "F1Score: 0.26675461741424805\n",
      "\n"
     ]
    },
    {
     "data": {
      "image/png": "[encoded data removed]",
      "text/plain": [
       "<Figure size 216x288 with 1 Axes>"
      ]
     },
     "metadata": {
      "needs_background": "light"
     },
     "output_type": "display_data"
    }
   ],
   "source": [
    "evaluate_model(lr_model, lr_extract_inputs, lr_extract_outputs, False)"
   ]
  },
  {
   "cell_type": "markdown",
   "metadata": {},
   "source": [
    "### Conclusión:\n",
    "\n",
    "- Podemos concluir con que este modelo no es el apropiado para nuestro caso ya que no es linealmente divisibe, esto queda demostrado por los bajos valores que expresan las metricas seleccionadas."
   ]
  },
  {
   "cell_type": "markdown",
   "metadata": {},
   "source": [
    "### Neural Networks"
   ]
  },
  {
   "cell_type": "markdown",
   "metadata": {},
   "source": [
    "- Decidimos probar con este modelo debido a que es uno de los más potentes"
   ]
  },
  {
   "cell_type": "code",
   "execution_count": 21,
   "metadata": {},
   "outputs": [],
   "source": [
    "#Definimos función para calcular la métrica F\n",
    "\n",
    "def f1(y_true, y_pred):\n",
    "    def recall(y_true, y_pred):       \n",
    "        true_positives = K.sum(K.round(K.clip(y_true * y_pred, 0, 1)))\n",
    "        possible_positives = K.sum(K.round(K.clip(y_true, 0, 1)))\n",
    "        recall = true_positives / (possible_positives + K.epsilon())\n",
    "        return recall\n",
    "\n",
    "    def precision(y_true, y_pred):       \n",
    "        true_positives = K.sum(K.round(K.clip(y_true * y_pred, 0, 1)))\n",
    "        predicted_positives = K.sum(K.round(K.clip(y_pred, 0, 1)))\n",
    "        precision = true_positives / (predicted_positives + K.epsilon())\n",
    "        return precision\n",
    "    precision = precision(y_true, y_pred)\n",
    "    recall = recall(y_true, y_pred)\n",
    "    return 2*((precision*recall)/(precision+recall+K.epsilon()))"
   ]
  },
  {
   "cell_type": "code",
   "execution_count": 22,
   "metadata": {},
   "outputs": [
    {
     "name": "stdout",
     "output_type": "stream",
     "text": [
      "WARNING:tensorflow:From /home/lucas/analisis_exploratorio/venv/lib/python3.6/site-packages/tensorflow/python/framework/op_def_library.py:263: colocate_with (from tensorflow.python.framework.ops) is deprecated and will be removed in a future version.\n",
      "Instructions for updating:\n",
      "Colocations handled automatically by placer.\n",
      "WARNING:tensorflow:From /home/lucas/analisis_exploratorio/venv/lib/python3.6/site-packages/keras/backend/tensorflow_backend.py:3445: calling dropout (from tensorflow.python.ops.nn_ops) with keep_prob is deprecated and will be removed in a future version.\n",
      "Instructions for updating:\n",
      "Please use `rate` instead of `keep_prob`. Rate should be set to `rate = 1 - keep_prob`.\n"
     ]
    }
   ],
   "source": [
    "model = Sequential([   \n",
    "    Dense(300, input_shape=(len(INPUTS_COLUMNS), )),\n",
    "    Activation('tanh'),\n",
    "    Dense(200),\n",
    "    Activation('relu'),\n",
    "    Dropout(0.10),\n",
    "    Dense(100),\n",
    "    Activation('tanh'),\n",
    "    Dropout(0.05),\n",
    "    Dense(1),\n",
    "    Activation('sigmoid'),\n",
    "])\n",
    "\n",
    "model.compile(\n",
    "    optimizer='adam',\n",
    "    loss='binary_crossentropy',\n",
    "    metrics=[keras_metrics.precision(), keras_metrics.recall(), f1],\n",
    ")"
   ]
  },
  {
   "cell_type": "code",
   "execution_count": 23,
   "metadata": {},
   "outputs": [
    {
     "name": "stdout",
     "output_type": "stream",
     "text": [
      "WARNING:tensorflow:From /home/lucas/analisis_exploratorio/venv/lib/python3.6/site-packages/tensorflow/python/ops/math_ops.py:3066: to_int32 (from tensorflow.python.ops.math_ops) is deprecated and will be removed in a future version.\n",
      "Instructions for updating:\n",
      "Use tf.cast instead.\n",
      "Train on 123699 samples, validate on 41233 samples\n",
      "Epoch 1/50\n",
      "123699/123699 [==============================] - 19s 153us/step - loss: 0.3338 - precision: 0.6901 - recall: 0.1945 - f1: 0.2812 - val_loss: 0.2960 - val_precision: 0.6835 - val_recall: 0.3833 - val_f1: 0.4815\n",
      "Epoch 2/50\n",
      "123699/123699 [==============================] - 18s 144us/step - loss: 0.2887 - precision: 0.7394 - recall: 0.3619 - f1: 0.4714 - val_loss: 0.2736 - val_precision: 0.7449 - val_recall: 0.4254 - val_f1: 0.5310\n",
      "Epoch 3/50\n",
      "123699/123699 [==============================] - 18s 146us/step - loss: 0.2622 - precision: 0.7647 - recall: 0.4439 - f1: 0.5502 - val_loss: 0.2584 - val_precision: 0.7766 - val_recall: 0.4614 - val_f1: 0.5678\n",
      "Epoch 4/50\n",
      "123699/123699 [==============================] - 18s 146us/step - loss: 0.2406 - precision: 0.7834 - recall: 0.5010 - f1: 0.5996 - val_loss: 0.2558 - val_precision: 0.7575 - val_recall: 0.5131 - val_f1: 0.6024\n",
      "Epoch 5/50\n",
      "123699/123699 [==============================] - 18s 148us/step - loss: 0.2244 - precision: 0.7973 - recall: 0.5408 - f1: 0.6343 - val_loss: 0.2484 - val_precision: 0.8252 - val_recall: 0.4811 - val_f1: 0.5974\n",
      "Epoch 6/50\n",
      "123699/123699 [==============================] - 19s 150us/step - loss: 0.2108 - precision: 0.8124 - recall: 0.5722 - f1: 0.6623 - val_loss: 0.2465 - val_precision: 0.7810 - val_recall: 0.5433 - val_f1: 0.6315\n",
      "Epoch 7/50\n",
      "123699/123699 [==============================] - 19s 150us/step - loss: 0.1992 - precision: 0.8245 - recall: 0.6004 - f1: 0.6864 - val_loss: 0.2467 - val_precision: 0.7821 - val_recall: 0.5590 - val_f1: 0.6419\n",
      "Epoch 8/50\n",
      "123699/123699 [==============================] - 19s 151us/step - loss: 0.1888 - precision: 0.8338 - recall: 0.6241 - f1: 0.7042 - val_loss: 0.2373 - val_precision: 0.7975 - val_recall: 0.5749 - val_f1: 0.6584\n",
      "Epoch 9/50\n",
      "123699/123699 [==============================] - 19s 153us/step - loss: 0.1786 - precision: 0.8421 - recall: 0.6453 - f1: 0.7209 - val_loss: 0.2427 - val_precision: 0.7845 - val_recall: 0.5872 - val_f1: 0.6638\n",
      "Epoch 10/50\n",
      "123699/123699 [==============================] - 20s 160us/step - loss: 0.1714 - precision: 0.8471 - recall: 0.6581 - f1: 0.7351 - val_loss: 0.2417 - val_precision: 0.7675 - val_recall: 0.6041 - val_f1: 0.6676\n",
      "Epoch 11/50\n",
      "123699/123699 [==============================] - 19s 150us/step - loss: 0.1644 - precision: 0.8524 - recall: 0.6739 - f1: 0.7448 - val_loss: 0.2477 - val_precision: 0.7733 - val_recall: 0.6044 - val_f1: 0.6703\n",
      "Epoch 12/50\n",
      "123699/123699 [==============================] - 19s 156us/step - loss: 0.1570 - precision: 0.8605 - recall: 0.6877 - f1: 0.7565 - val_loss: 0.2511 - val_precision: 0.7656 - val_recall: 0.6167 - val_f1: 0.6750\n",
      "Epoch 13/50\n",
      "123699/123699 [==============================] - 19s 153us/step - loss: 0.1518 - precision: 0.8637 - recall: 0.6987 - f1: 0.7651 - val_loss: 0.2586 - val_precision: 0.8151 - val_recall: 0.5882 - val_f1: 0.6736\n",
      "Epoch 14/50\n",
      "123699/123699 [==============================] - 19s 151us/step - loss: 0.1466 - precision: 0.8671 - recall: 0.7113 - f1: 0.7738 - val_loss: 0.2563 - val_precision: 0.7654 - val_recall: 0.6293 - val_f1: 0.6826\n",
      "Epoch 15/50\n",
      "123699/123699 [==============================] - 19s 154us/step - loss: 0.1407 - precision: 0.8697 - recall: 0.7195 - f1: 0.7805 - val_loss: 0.2657 - val_precision: 0.7771 - val_recall: 0.6263 - val_f1: 0.6858\n",
      "Epoch 16/50\n",
      "123699/123699 [==============================] - 19s 152us/step - loss: 0.1361 - precision: 0.8746 - recall: 0.7292 - f1: 0.7882 - val_loss: 0.2616 - val_precision: 0.7790 - val_recall: 0.6326 - val_f1: 0.6897\n",
      "Epoch 17/50\n",
      "123699/123699 [==============================] - 19s 153us/step - loss: 0.1321 - precision: 0.8789 - recall: 0.7424 - f1: 0.7985 - val_loss: 0.2668 - val_precision: 0.7877 - val_recall: 0.6119 - val_f1: 0.6794\n",
      "Epoch 18/50\n",
      "123699/123699 [==============================] - 19s 155us/step - loss: 0.1271 - precision: 0.8824 - recall: 0.7474 - f1: 0.8027 - val_loss: 0.2814 - val_precision: 0.7815 - val_recall: 0.6200 - val_f1: 0.6824\n",
      "Epoch 19/50\n",
      "123699/123699 [==============================] - 19s 156us/step - loss: 0.1238 - precision: 0.8829 - recall: 0.7539 - f1: 0.8068 - val_loss: 0.2626 - val_precision: 0.7879 - val_recall: 0.6168 - val_f1: 0.6846\n",
      "Epoch 20/50\n",
      "123699/123699 [==============================] - 18s 149us/step - loss: 0.1202 - precision: 0.8855 - recall: 0.7639 - f1: 0.8138 - val_loss: 0.2700 - val_precision: 0.7977 - val_recall: 0.6095 - val_f1: 0.6822\n",
      "Epoch 21/50\n",
      "123699/123699 [==============================] - 19s 153us/step - loss: 0.1158 - precision: 0.8856 - recall: 0.7704 - f1: 0.8173 - val_loss: 0.2852 - val_precision: 0.7895 - val_recall: 0.6308 - val_f1: 0.6940\n",
      "Epoch 22/50\n",
      "123699/123699 [==============================] - 19s 156us/step - loss: 0.1147 - precision: 0.8863 - recall: 0.7764 - f1: 0.8224 - val_loss: 0.2762 - val_precision: 0.7683 - val_recall: 0.6336 - val_f1: 0.6869\n",
      "Epoch 23/50\n",
      "123699/123699 [==============================] - 19s 157us/step - loss: 0.1116 - precision: 0.8897 - recall: 0.7816 - f1: 0.8269 - val_loss: 0.2910 - val_precision: 0.7841 - val_recall: 0.6339 - val_f1: 0.6936\n",
      "Epoch 24/50\n",
      "123699/123699 [==============================] - 19s 157us/step - loss: 0.1095 - precision: 0.8915 - recall: 0.7864 - f1: 0.8306 - val_loss: 0.2878 - val_precision: 0.7754 - val_recall: 0.6374 - val_f1: 0.6910\n",
      "Epoch 25/50\n",
      "123699/123699 [==============================] - 20s 160us/step - loss: 0.1061 - precision: 0.8952 - recall: 0.7919 - f1: 0.8354 - val_loss: 0.3026 - val_precision: 0.7462 - val_recall: 0.6601 - val_f1: 0.6935\n",
      "Epoch 26/50\n",
      "123699/123699 [==============================] - 19s 150us/step - loss: 0.1039 - precision: 0.8945 - recall: 0.7943 - f1: 0.8364 - val_loss: 0.3106 - val_precision: 0.7512 - val_recall: 0.6515 - val_f1: 0.6908\n",
      "Epoch 27/50\n",
      "123699/123699 [==============================] - 19s 152us/step - loss: 0.1031 - precision: 0.8950 - recall: 0.7977 - f1: 0.8388 - val_loss: 0.3009 - val_precision: 0.7654 - val_recall: 0.6488 - val_f1: 0.6952\n",
      "Epoch 28/50\n",
      "123699/123699 [==============================] - 19s 153us/step - loss: 0.1013 - precision: 0.8950 - recall: 0.8020 - f1: 0.8401 - val_loss: 0.3003 - val_precision: 0.7767 - val_recall: 0.6381 - val_f1: 0.6934\n",
      "Epoch 29/50\n",
      "123699/123699 [==============================] - 19s 158us/step - loss: 0.0981 - precision: 0.8970 - recall: 0.8084 - f1: 0.8454 - val_loss: 0.3020 - val_precision: 0.7514 - val_recall: 0.6676 - val_f1: 0.7002\n",
      "Epoch 30/50\n",
      "123699/123699 [==============================] - 19s 152us/step - loss: 0.0961 - precision: 0.8999 - recall: 0.8114 - f1: 0.8485 - val_loss: 0.3065 - val_precision: 0.7431 - val_recall: 0.6644 - val_f1: 0.6951\n",
      "Epoch 31/50\n",
      "123699/123699 [==============================] - 19s 154us/step - loss: 0.0949 - precision: 0.8993 - recall: 0.8151 - f1: 0.8501 - val_loss: 0.3184 - val_precision: 0.7503 - val_recall: 0.6470 - val_f1: 0.6883\n",
      "Epoch 32/50\n",
      "123699/123699 [==============================] - 19s 153us/step - loss: 0.0934 - precision: 0.9008 - recall: 0.8174 - f1: 0.8521 - val_loss: 0.3265 - val_precision: 0.7537 - val_recall: 0.6558 - val_f1: 0.6949\n",
      "Epoch 33/50\n",
      "123699/123699 [==============================] - 19s 152us/step - loss: 0.0907 - precision: 0.8989 - recall: 0.8240 - f1: 0.8547 - val_loss: 0.3189 - val_precision: 0.7512 - val_recall: 0.6541 - val_f1: 0.6918\n",
      "Epoch 34/50\n",
      "123699/123699 [==============================] - 19s 152us/step - loss: 0.0903 - precision: 0.9016 - recall: 0.8259 - f1: 0.8587 - val_loss: 0.3192 - val_precision: 0.7638 - val_recall: 0.6506 - val_f1: 0.6949\n",
      "Epoch 35/50\n",
      "123699/123699 [==============================] - 19s 152us/step - loss: 0.0884 - precision: 0.9018 - recall: 0.8288 - f1: 0.8594 - val_loss: 0.3204 - val_precision: 0.7607 - val_recall: 0.6598 - val_f1: 0.7003\n",
      "Epoch 36/50\n"
     ]
    },
    {
     "name": "stdout",
     "output_type": "stream",
     "text": [
      "123699/123699 [==============================] - 19s 154us/step - loss: 0.0868 - precision: 0.9014 - recall: 0.8316 - f1: 0.8601 - val_loss: 0.3295 - val_precision: 0.7667 - val_recall: 0.6561 - val_f1: 0.6990\n",
      "Epoch 37/50\n",
      "123699/123699 [==============================] - 20s 159us/step - loss: 0.0852 - precision: 0.9054 - recall: 0.8339 - f1: 0.8635 - val_loss: 0.3330 - val_precision: 0.7578 - val_recall: 0.6601 - val_f1: 0.6985\n",
      "Epoch 38/50\n",
      "123699/123699 [==============================] - 19s 151us/step - loss: 0.0854 - precision: 0.9051 - recall: 0.8324 - f1: 0.8630 - val_loss: 0.3387 - val_precision: 0.7341 - val_recall: 0.6684 - val_f1: 0.6926\n",
      "Epoch 39/50\n",
      "123699/123699 [==============================] - 19s 150us/step - loss: 0.0843 - precision: 0.9026 - recall: 0.8373 - f1: 0.8640 - val_loss: 0.3335 - val_precision: 0.7414 - val_recall: 0.6629 - val_f1: 0.6930\n",
      "Epoch 40/50\n",
      "123699/123699 [==============================] - 20s 159us/step - loss: 0.0814 - precision: 0.9081 - recall: 0.8442 - f1: 0.8713 - val_loss: 0.3356 - val_precision: 0.7606 - val_recall: 0.6566 - val_f1: 0.6983\n",
      "Epoch 41/50\n",
      "123699/123699 [==============================] - 21s 167us/step - loss: 0.0813 - precision: 0.9069 - recall: 0.8422 - f1: 0.8689 - val_loss: 0.3337 - val_precision: 0.7689 - val_recall: 0.6450 - val_f1: 0.6942\n",
      "Epoch 42/50\n",
      "123699/123699 [==============================] - 19s 154us/step - loss: 0.0799 - precision: 0.9074 - recall: 0.8449 - f1: 0.8710 - val_loss: 0.3441 - val_precision: 0.7707 - val_recall: 0.6545 - val_f1: 0.7010\n",
      "Epoch 43/50\n",
      "123699/123699 [==============================] - 19s 153us/step - loss: 0.0785 - precision: 0.9105 - recall: 0.8473 - f1: 0.8735 - val_loss: 0.3438 - val_precision: 0.7536 - val_recall: 0.6563 - val_f1: 0.6942\n",
      "Epoch 44/50\n",
      "123699/123699 [==============================] - 19s 152us/step - loss: 0.0791 - precision: 0.9082 - recall: 0.8497 - f1: 0.8742 - val_loss: 0.3367 - val_precision: 0.7887 - val_recall: 0.6472 - val_f1: 0.7039\n",
      "Epoch 45/50\n",
      "123699/123699 [==============================] - 19s 151us/step - loss: 0.0772 - precision: 0.9097 - recall: 0.8530 - f1: 0.8765 - val_loss: 0.3393 - val_precision: 0.7461 - val_recall: 0.6667 - val_f1: 0.6976\n",
      "Epoch 46/50\n",
      "123699/123699 [==============================] - 19s 154us/step - loss: 0.0767 - precision: 0.9103 - recall: 0.8535 - f1: 0.8777 - val_loss: 0.3517 - val_precision: 0.7564 - val_recall: 0.6598 - val_f1: 0.6964\n",
      "Epoch 47/50\n",
      "123699/123699 [==============================] - 20s 162us/step - loss: 0.0749 - precision: 0.9105 - recall: 0.8570 - f1: 0.8785 - val_loss: 0.3527 - val_precision: 0.7308 - val_recall: 0.6654 - val_f1: 0.6898\n",
      "Epoch 48/50\n",
      "123699/123699 [==============================] - 20s 162us/step - loss: 0.0753 - precision: 0.9096 - recall: 0.8564 - f1: 0.8778 - val_loss: 0.3530 - val_precision: 0.7692 - val_recall: 0.6518 - val_f1: 0.6991\n",
      "Epoch 49/50\n",
      "123699/123699 [==============================] - 19s 152us/step - loss: 0.0736 - precision: 0.9130 - recall: 0.8580 - f1: 0.8812 - val_loss: 0.3660 - val_precision: 0.7768 - val_recall: 0.6477 - val_f1: 0.6980\n",
      "Epoch 50/50\n",
      "123699/123699 [==============================] - 19s 155us/step - loss: 0.0729 - precision: 0.9127 - recall: 0.8609 - f1: 0.8816 - val_loss: 0.3562 - val_precision: 0.7441 - val_recall: 0.6639 - val_f1: 0.6945\n"
     ]
    }
   ],
   "source": [
    "history = model.fit(\n",
    "    lr_extract_inputs(train), \n",
    "    lr_extract_outputs(train),\n",
    "    epochs=50,\n",
    "    batch_size=100,\n",
    "    validation_data=(\n",
    "        lr_extract_inputs(test),\n",
    "        lr_extract_outputs(test),\n",
    "    )\n",
    ")"
   ]
  },
  {
   "cell_type": "code",
   "execution_count": 27,
   "metadata": {},
   "outputs": [
    {
     "data": {
      "image/png": "[encoded data removed]",
      "text/plain": [
       "<Figure size 432x288 with 1 Axes>"
      ]
     },
     "metadata": {
      "needs_background": "light"
     },
     "output_type": "display_data"
    }
   ],
   "source": [
    "plt.plot(history.history['f1'], label='train')\n",
    "plt.plot(history.history['val_f1'], label='test')\n",
    "plt.title('F1-Score over train epochs')\n",
    "plt.ylabel('F1-Score')\n",
    "plt.xlabel('Epoch')\n",
    "plt.legend(loc='upper left')\n",
    "plt.show()"
   ]
  },
  {
   "cell_type": "markdown",
   "metadata": {},
   "source": [
    "### Conclusión:\n",
    "\n",
    "- Decidimos que este modelo es el apropiado ya que contamos con una gran cantidad de datos y no pudimos encontrar resultados satisfactorios con modelos más simples. Observamos que los resultados de las métricas, si bien no son los ideales, cumplen con nuestras expectativas."
   ]
  },
  {
   "cell_type": "markdown",
   "metadata": {},
   "source": [
    "### Random Forests"
   ]
  },
  {
   "cell_type": "markdown",
   "metadata": {},
   "source": [
    "- Decidimos probar con éste modelo ya que queríamos evaluar su desempeño en nuestro caso, pese a saber que existen grandes probabilidades de que sobre-entrene (por la gran cantidad de clases que tienen nuestras variables)"
   ]
  },
  {
   "cell_type": "code",
   "execution_count": 28,
   "metadata": {},
   "outputs": [],
   "source": [
    "from sklearn.ensemble import RandomForestClassifier"
   ]
  },
  {
   "cell_type": "code",
   "execution_count": 29,
   "metadata": {},
   "outputs": [],
   "source": [
    "#Separamos el conjunto de datos en: train, test y validation\n",
    "train_tree, not_train_tree = train_test_split(data_tree, test_size=0.4)\n",
    "validation_tree, test_tree = train_test_split(not_train_tree, test_size=0.5)"
   ]
  },
  {
   "cell_type": "code",
   "execution_count": 30,
   "metadata": {},
   "outputs": [],
   "source": [
    "INPUTS = [\n",
    " 'sex', \n",
    " 'age', \n",
    " 'height', \n",
    " 'weight', \n",
    " 'noc', \n",
    " 'year', \n",
    " 'season', \n",
    " 'city',       \n",
    " 'sport', \n",
    " 'event']\n",
    "\n",
    "def tree_extract_inputs(data_tree):\n",
    "    \"\"\"\n",
    "    Inputs in the format supported by the logistic regressor.\n",
    "    \"\"\"\n",
    "    # we don't want to modify the original dataset, that we will use with other models\n",
    "    inputs = data_tree.copy()\n",
    "    \n",
    "    # sex to labels\n",
    "    inputs['sex'] = inputs.sex.map({'M': 1, 'F': 2})\n",
    "\n",
    "    #noc\n",
    "    i = 0\n",
    "    for noc in data_tree.noc.unique():\n",
    "        i += 1\n",
    "        inputs.at[inputs.noc == noc, \"noc\"] = i\n",
    "        \n",
    "    i = 0\n",
    "    for season in data_tree.season.unique():\n",
    "        i += 1\n",
    "        inputs.at[inputs.season == season, \"season\"] = i\n",
    "    \n",
    "    i = 0\n",
    "    for city in data_tree.city.unique():\n",
    "        i += 1\n",
    "        inputs.at[inputs.city == city, \"city\"] = i\n",
    "    \n",
    "    i = 0\n",
    "    for sport in data_tree.sport.unique():\n",
    "        i += 1\n",
    "        inputs.at[inputs.sport == sport, \"sport\"] = i\n",
    "\n",
    "        \n",
    "    i = 0\n",
    "    for event in data_tree.event.unique():\n",
    "        i += 1\n",
    "        inputs.at[inputs.event == event, \"event\"] = i\n",
    " \n",
    "    # return the raw numbers\n",
    "    return inputs[INPUTS].values\n",
    "\n",
    "def tree_extract_outputs(data_tree):\n",
    "    \"\"\"\n",
    "    Outputs in the format supported by the logistic regressor.\n",
    "    \"\"\"\n",
    "    return data_tree.medal.values"
   ]
  },
  {
   "cell_type": "code",
   "execution_count": 31,
   "metadata": {},
   "outputs": [],
   "source": [
    "forest_model = RandomForestClassifier()"
   ]
  },
  {
   "cell_type": "code",
   "execution_count": 32,
   "metadata": {},
   "outputs": [
    {
     "name": "stderr",
     "output_type": "stream",
     "text": [
      "/home/lucas/analisis_exploratorio/venv/lib/python3.6/site-packages/sklearn/ensemble/forest.py:246: FutureWarning: The default value of n_estimators will change from 10 in version 0.20 to 100 in 0.22.\n",
      "  \"10 in version 0.20 to 100 in 0.22.\", FutureWarning)\n"
     ]
    },
    {
     "data": {
      "text/plain": [
       "RandomForestClassifier(bootstrap=True, class_weight=None, criterion='gini',\n",
       "            max_depth=None, max_features='auto', max_leaf_nodes=None,\n",
       "            min_impurity_decrease=0.0, min_impurity_split=None,\n",
       "            min_samples_leaf=1, min_samples_split=2,\n",
       "            min_weight_fraction_leaf=0.0, n_estimators=10, n_jobs=None,\n",
       "            oob_score=False, random_state=None, verbose=0,\n",
       "            warm_start=False)"
      ]
     },
     "execution_count": 32,
     "metadata": {},
     "output_type": "execute_result"
    }
   ],
   "source": [
    "forest_model.fit(\n",
    "    tree_extract_inputs(train_tree),\n",
    "    tree_extract_outputs(train_tree),\n",
    ")"
   ]
  },
  {
   "cell_type": "code",
   "execution_count": 33,
   "metadata": {},
   "outputs": [
    {
     "name": "stdout",
     "output_type": "stream",
     "text": [
      "train ################################################################################\n",
      "Precision: 0.9984259595592687\n",
      "Recall: 0.9175986201524509\n",
      "F1Score: 0.9563074425212373\n",
      "\n"
     ]
    },
    {
     "data": {
      "image/png": "[encoded data removed]",
      "text/plain": [
       "<Figure size 216x288 with 1 Axes>"
      ]
     },
     "metadata": {
      "needs_background": "light"
     },
     "output_type": "display_data"
    },
    {
     "name": "stdout",
     "output_type": "stream",
     "text": [
      "test ################################################################################\n",
      "Precision: 0.2995391705069124\n",
      "Recall: 0.021364009860312245\n",
      "F1Score: 0.039883417702101555\n",
      "\n"
     ]
    },
    {
     "data": {
      "image/png": "[encoded data removed]",
      "text/plain": [
       "<Figure size 216x288 with 1 Axes>"
      ]
     },
     "metadata": {
      "needs_background": "light"
     },
     "output_type": "display_data"
    },
    {
     "name": "stdout",
     "output_type": "stream",
     "text": [
      "validation ################################################################################\n",
      "Precision: 0.23869346733668342\n",
      "Recall: 0.015515270292340356\n",
      "F1Score: 0.029136635485355004\n",
      "\n"
     ]
    },
    {
     "data": {
      "image/png": "[encoded data removed]",
      "text/plain": [
       "<Figure size 216x288 with 1 Axes>"
      ]
     },
     "metadata": {
      "needs_background": "light"
     },
     "output_type": "display_data"
    }
   ],
   "source": [
    "evaluate_model(forest_model, tree_extract_inputs, tree_extract_outputs, True)"
   ]
  },
  {
   "cell_type": "markdown",
   "metadata": {},
   "source": [
    "### Conclusión:\n",
    "\n",
    "- Decimos no considerar este modelo para predecir ya que los resultados obtenidos a partir de las métricas, a nuestro criterio, son insuficientes. Esto ocurre debido a que el modelo sobre-entrena por la gran cantidad de clases que tienen nuestras variables."
   ]
  },
  {
   "cell_type": "markdown",
   "metadata": {},
   "source": [
    "## Técnicas para garantizar que los modelos no sobre-entrenen"
   ]
  },
  {
   "cell_type": "markdown",
   "metadata": {},
   "source": [
    "- Para garantizar que los modelos no sobreentrenen decidimos utilizar como métrica la **matriz de confusión**, la cual nos permite comparar de manera visual y rápida los resultados obtenidos en train y test (para el modelo de regresión logística y para random forest). Y para el modelo que consideramos más apropiado (redes neuranales) utilizamos la métrica **curva de apredizaje** para poder encontrar la cantidad de épocas necesarias para obtener resultados satifactorios sin que el modelo llegue a sobre-entrenar y además utiliamos la técnica de **dropout** a fin de cortar conexiones entre las neuronas previniendo el sobreentrenamiento."
   ]
  },
  {
   "cell_type": "markdown",
   "metadata": {},
   "source": [
    "## Conclusión final "
   ]
  },
  {
   "cell_type": "markdown",
   "metadata": {},
   "source": [
    "- El valor final de la métrica es: 0.70 (0.6945 en el dataset de test), esto indica una ponderación entre la cantidad de falsos positivos que estamos dispuestos a aceptar (1 - precission) y la probabilidad de que no se nos escape un caso positivo. Como explicamos más arriba, es una especie de promedio entre precission, que indica el porcentaje de seguridad que tenemos al decír que nuestra predicción pertenece a la clase indicada, y recall, que indica de la cantidad total de casos que había, cuantos fuimos capaces de predecir correctamente.\n",
    "\n",
    "    Como síntesis, podemos decirle al cliente que tenemos una certeza de predicción aproximada al 70% al decir si un atleta es medallista olimipico o no."
   ]
  }
 ],
 "metadata": {
  "kernelspec": {
   "display_name": "Python 3",
   "language": "python",
   "name": "python3"
  },
  "language_info": {
   "codemirror_mode": {
    "name": "ipython",
    "version": 3
   },
   "file_extension": ".py",
   "mimetype": "text/x-python",
   "name": "python",
   "nbconvert_exporter": "python",
   "pygments_lexer": "ipython3",
   "version": "3.6.7"
  }
 },
 "nbformat": 4,
 "nbformat_minor": 2
}
